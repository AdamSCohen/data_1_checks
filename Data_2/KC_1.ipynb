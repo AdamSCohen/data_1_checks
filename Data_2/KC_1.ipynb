{
 "cells": [
  {
   "cell_type": "code",
   "execution_count": 123,
   "metadata": {},
   "outputs": [],
   "source": [
    "import requests\n",
    "import pandas as pd"
   ]
  },
  {
   "cell_type": "code",
   "execution_count": 124,
   "metadata": {},
   "outputs": [
    {
     "data": {
      "text/html": [
       "<div>\n",
       "<style scoped>\n",
       "    .dataframe tbody tr th:only-of-type {\n",
       "        vertical-align: middle;\n",
       "    }\n",
       "\n",
       "    .dataframe tbody tr th {\n",
       "        vertical-align: top;\n",
       "    }\n",
       "\n",
       "    .dataframe thead th {\n",
       "        text-align: right;\n",
       "    }\n",
       "</style>\n",
       "<table border=\"1\" class=\"dataframe\">\n",
       "  <thead>\n",
       "    <tr style=\"text-align: right;\">\n",
       "      <th></th>\n",
       "      <th>index</th>\n",
       "      <th>name</th>\n",
       "      <th>url</th>\n",
       "    </tr>\n",
       "  </thead>\n",
       "  <tbody>\n",
       "    <tr>\n",
       "      <th>0</th>\n",
       "      <td>acid-arrow</td>\n",
       "      <td>Acid Arrow</td>\n",
       "      <td>/api/spells/acid-arrow</td>\n",
       "    </tr>\n",
       "    <tr>\n",
       "      <th>1</th>\n",
       "      <td>acid-splash</td>\n",
       "      <td>Acid Splash</td>\n",
       "      <td>/api/spells/acid-splash</td>\n",
       "    </tr>\n",
       "    <tr>\n",
       "      <th>2</th>\n",
       "      <td>aid</td>\n",
       "      <td>Aid</td>\n",
       "      <td>/api/spells/aid</td>\n",
       "    </tr>\n",
       "    <tr>\n",
       "      <th>3</th>\n",
       "      <td>alarm</td>\n",
       "      <td>Alarm</td>\n",
       "      <td>/api/spells/alarm</td>\n",
       "    </tr>\n",
       "    <tr>\n",
       "      <th>4</th>\n",
       "      <td>alter-self</td>\n",
       "      <td>Alter Self</td>\n",
       "      <td>/api/spells/alter-self</td>\n",
       "    </tr>\n",
       "  </tbody>\n",
       "</table>\n",
       "</div>"
      ],
      "text/plain": [
       "         index         name                      url\n",
       "0   acid-arrow   Acid Arrow   /api/spells/acid-arrow\n",
       "1  acid-splash  Acid Splash  /api/spells/acid-splash\n",
       "2          aid          Aid          /api/spells/aid\n",
       "3        alarm        Alarm        /api/spells/alarm\n",
       "4   alter-self   Alter Self   /api/spells/alter-self"
      ]
     },
     "execution_count": 124,
     "metadata": {},
     "output_type": "execute_result"
    }
   ],
   "source": [
    "#Pull in data from an API\n",
    "\n",
    "r = requests.get('http://www.dnd5eapi.co/api/spells')\n",
    "json = r.json()['results']\n",
    "df = pd.DataFrame(data=json)\n",
    "df.head()"
   ]
  },
  {
   "cell_type": "code",
   "execution_count": 125,
   "metadata": {},
   "outputs": [
    {
     "name": "stdout",
     "output_type": "stream",
     "text": [
      "319\n"
     ]
    }
   ],
   "source": [
    "#Find a print a descriptive statistic\n",
    "#This is the total number of entries in the dataframe\n",
    "\n",
    "print(len(df.index))"
   ]
  },
  {
   "cell_type": "code",
   "execution_count": 126,
   "metadata": {},
   "outputs": [
    {
     "name": "stdout",
     "output_type": "stream",
     "text": [
      "29\n"
     ]
    }
   ],
   "source": [
    "#Find a print a descriptive statistic\n",
    "#This is length of the longest name of spell\n",
    "\n",
    "print(df.name.str.len().max())"
   ]
  },
  {
   "cell_type": "code",
   "execution_count": 127,
   "metadata": {},
   "outputs": [
    {
     "name": "stdout",
     "output_type": "stream",
     "text": [
      "                 index               name                            url\n",
      "0           acid-arrow         Acid Arrow         /api/spells/acid-arrow\n",
      "1          acid-splash        Acid Splash        /api/spells/acid-splash\n",
      "4           alter-self         Alter Self         /api/spells/alter-self\n",
      "5    animal-friendship  Animal Friendship  /api/spells/animal-friendship\n",
      "6     animal-messenger   Animal Messenger   /api/spells/animal-messenger\n",
      "..                 ...                ...                            ...\n",
      "311         water-walk         Water Walk         /api/spells/water-walk\n",
      "314          wind-walk          Wind Walk          /api/spells/wind-walk\n",
      "315          wind-wall          Wind Wall          /api/spells/wind-wall\n",
      "317     word-of-recall     Word of Recall     /api/spells/word-of-recall\n",
      "318      zone-of-truth      Zone of Truth      /api/spells/zone-of-truth\n",
      "\n",
      "[214 rows x 3 columns]\n"
     ]
    }
   ],
   "source": [
    "#Write a query in Pandas to select a particular set of your data\n",
    "#This is all of the spells names that contain two or more words.\n",
    "\n",
    "two_words = df[df['name'].str.contains(\" \")]\n",
    "print(two_words)\n"
   ]
  },
  {
   "cell_type": "code",
   "execution_count": 128,
   "metadata": {},
   "outputs": [
    {
     "name": "stdout",
     "output_type": "stream",
     "text": [
      "               name                         url\n",
      "0        Acid Arrow      /api/spells/acid-arrow\n",
      "1       Acid Splash     /api/spells/acid-splash\n",
      "2               Aid             /api/spells/aid\n",
      "3             Alarm           /api/spells/alarm\n",
      "4        Alter Self      /api/spells/alter-self\n",
      "..              ...                         ...\n",
      "314       Wind Walk       /api/spells/wind-walk\n",
      "315       Wind Wall       /api/spells/wind-wall\n",
      "316            Wish            /api/spells/wish\n",
      "317  Word of Recall  /api/spells/word-of-recall\n",
      "318   Zone of Truth   /api/spells/zone-of-truth\n",
      "\n",
      "[319 rows x 2 columns]\n"
     ]
    }
   ],
   "source": [
    "#Select and print the SECOND AND THIRD columns of your data frame.\n",
    "\n",
    "df2 = df[['name','url']]\n",
    "print(df2)"
   ]
  },
  {
   "cell_type": "code",
   "execution_count": 129,
   "metadata": {},
   "outputs": [
    {
     "name": "stdout",
     "output_type": "stream",
     "text": [
      "         index         name                      url\n",
      "0   acid-arrow   Acid Arrow   /api/spells/acid-arrow\n",
      "1  acid-splash  Acid Splash  /api/spells/acid-splash\n",
      "2          aid          Aid          /api/spells/aid\n",
      "3        alarm        Alarm        /api/spells/alarm\n"
     ]
    }
   ],
   "source": [
    "#Select and print the FIRST 4 rows of you data frame.\n",
    "\n",
    "df3 = df.iloc[0:4]\n",
    "print(df3)"
   ]
  }
 ],
 "metadata": {
  "kernelspec": {
   "display_name": "Python 3 (ipykernel)",
   "language": "python",
   "name": "python3"
  },
  "language_info": {
   "codemirror_mode": {
    "name": "ipython",
    "version": 3
   },
   "file_extension": ".py",
   "mimetype": "text/x-python",
   "name": "python",
   "nbconvert_exporter": "python",
   "pygments_lexer": "ipython3",
   "version": "3.10.5"
  },
  "vscode": {
   "interpreter": {
    "hash": "971cac2d3a85aca30ddd2f84efc770d4552bac85453983cef0b0351cb5d9b584"
   }
  }
 },
 "nbformat": 4,
 "nbformat_minor": 2
}
