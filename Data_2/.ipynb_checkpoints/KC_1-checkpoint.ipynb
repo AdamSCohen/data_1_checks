{
 "cells": [
  {
   "cell_type": "code",
   "execution_count": 1,
   "metadata": {},
   "outputs": [],
   "source": [
    "import requests\n",
    "import pandas as pd"
   ]
  },
  {
   "cell_type": "code",
   "execution_count": 2,
   "metadata": {},
   "outputs": [
    {
     "data": {
      "text/html": [
       "<div>\n",
       "<style scoped>\n",
       "    .dataframe tbody tr th:only-of-type {\n",
       "        vertical-align: middle;\n",
       "    }\n",
       "\n",
       "    .dataframe tbody tr th {\n",
       "        vertical-align: top;\n",
       "    }\n",
       "\n",
       "    .dataframe thead th {\n",
       "        text-align: right;\n",
       "    }\n",
       "</style>\n",
       "<table border=\"1\" class=\"dataframe\">\n",
       "  <thead>\n",
       "    <tr style=\"text-align: right;\">\n",
       "      <th></th>\n",
       "      <th>count</th>\n",
       "      <th>results</th>\n",
       "    </tr>\n",
       "  </thead>\n",
       "  <tbody>\n",
       "    <tr>\n",
       "      <th>0</th>\n",
       "      <td>12</td>\n",
       "      <td>{'index': 'barbarian', 'name': 'Barbarian', 'u...</td>\n",
       "    </tr>\n",
       "    <tr>\n",
       "      <th>1</th>\n",
       "      <td>12</td>\n",
       "      <td>{'index': 'bard', 'name': 'Bard', 'url': '/api...</td>\n",
       "    </tr>\n",
       "    <tr>\n",
       "      <th>2</th>\n",
       "      <td>12</td>\n",
       "      <td>{'index': 'cleric', 'name': 'Cleric', 'url': '...</td>\n",
       "    </tr>\n",
       "    <tr>\n",
       "      <th>3</th>\n",
       "      <td>12</td>\n",
       "      <td>{'index': 'druid', 'name': 'Druid', 'url': '/a...</td>\n",
       "    </tr>\n",
       "    <tr>\n",
       "      <th>4</th>\n",
       "      <td>12</td>\n",
       "      <td>{'index': 'fighter', 'name': 'Fighter', 'url':...</td>\n",
       "    </tr>\n",
       "  </tbody>\n",
       "</table>\n",
       "</div>"
      ],
      "text/plain": [
       "   count                                            results\n",
       "0     12  {'index': 'barbarian', 'name': 'Barbarian', 'u...\n",
       "1     12  {'index': 'bard', 'name': 'Bard', 'url': '/api...\n",
       "2     12  {'index': 'cleric', 'name': 'Cleric', 'url': '...\n",
       "3     12  {'index': 'druid', 'name': 'Druid', 'url': '/a...\n",
       "4     12  {'index': 'fighter', 'name': 'Fighter', 'url':..."
      ]
     },
     "execution_count": 2,
     "metadata": {},
     "output_type": "execute_result"
    }
   ],
   "source": [
    "#r = requests.get('http://www.dnd5eapi.co/api/spells')\n",
    "#data = r.json()['count']\n",
    "data = pd.read_json('http://www.dnd5eapi.co/api/classes/')\n",
    "df = pd.DataFrame(data=data)\n",
    "df.head()"
   ]
  },
  {
   "cell_type": "code",
   "execution_count": 3,
   "metadata": {},
   "outputs": [
    {
     "data": {
      "text/plain": [
       "<bound method NDFrame.describe of     count                                            results\n",
       "0      12  {'index': 'barbarian', 'name': 'Barbarian', 'u...\n",
       "1      12  {'index': 'bard', 'name': 'Bard', 'url': '/api...\n",
       "2      12  {'index': 'cleric', 'name': 'Cleric', 'url': '...\n",
       "3      12  {'index': 'druid', 'name': 'Druid', 'url': '/a...\n",
       "4      12  {'index': 'fighter', 'name': 'Fighter', 'url':...\n",
       "5      12  {'index': 'monk', 'name': 'Monk', 'url': '/api...\n",
       "6      12  {'index': 'paladin', 'name': 'Paladin', 'url':...\n",
       "7      12  {'index': 'ranger', 'name': 'Ranger', 'url': '...\n",
       "8      12  {'index': 'rogue', 'name': 'Rogue', 'url': '/a...\n",
       "9      12  {'index': 'sorcerer', 'name': 'Sorcerer', 'url...\n",
       "10     12  {'index': 'warlock', 'name': 'Warlock', 'url':...\n",
       "11     12  {'index': 'wizard', 'name': 'Wizard', 'url': '...>"
      ]
     },
     "execution_count": 3,
     "metadata": {},
     "output_type": "execute_result"
    }
   ],
   "source": [
    "df.describe"
   ]
  },
  {
   "cell_type": "code",
   "execution_count": null,
   "metadata": {},
   "outputs": [],
   "source": []
  }
 ],
 "metadata": {
  "kernelspec": {
   "display_name": "Python 3 (ipykernel)",
   "language": "python",
   "name": "python3"
  },
  "language_info": {
   "codemirror_mode": {
    "name": "ipython",
    "version": 3
   },
   "file_extension": ".py",
   "mimetype": "text/x-python",
   "name": "python",
   "nbconvert_exporter": "python",
   "pygments_lexer": "ipython3",
   "version": "3.10.5"
  },
  "vscode": {
   "interpreter": {
    "hash": "971cac2d3a85aca30ddd2f84efc770d4552bac85453983cef0b0351cb5d9b584"
   }
  }
 },
 "nbformat": 4,
 "nbformat_minor": 2
}
